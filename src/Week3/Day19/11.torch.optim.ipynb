{
 "cells": [
  {
   "cell_type": "markdown",
   "metadata": {},
   "source": [
    "# torch.optim\n",
    "torch.optim 是一个实现了各种优化算法的库。大部分常用的方法得到支持，并且接口具备足 够的通用性，使得未来能够集成更加复杂的方法。\n",
    "\n",
    "## 如何使用optimizer\n",
    "为了使用 torch.optim ，你需要构建一个optimizer对象。这个对象能够保持当前参数状态并基 于计算得到的梯度进行参数更新。"
   ]
  },
  {
   "cell_type": "markdown",
   "metadata": {},
   "source": [
    "### 构建\n",
    "为了构建一个 Optimizer ，你需要给它一个包含了需要优化的参数 的iterable。然后，你可以设置optimizer的参 数选项，比如学习率，权重衰减，等等。\n",
    "```python\n",
    "optimizer = optim.SGD(model.parameters(), lr = 0.01, momentum=0.9) \n",
    "optimizer = optim.Adam([var1, var2], lr = 0.0001)\n",
    "```"
   ]
  },
  {
   "cell_type": "markdown",
   "metadata": {},
   "source": [
    "### 为每个参数单独设置选项\n",
    "Optimizer 也支持为每个参数单独设置选项。若想这么做，不要直接传入 iterable，而是传入 dict 的iterable。每一个dict都分别定义了一组参数，并且包含一个 param 键，这个键对应参数的列表。其他的键应该optimizer所接受的其他参数的关键字相匹配，并且会被用于对这组参数的优化。\n",
    "\n",
    "**注意：**\n",
    "你仍然能够传递选项作为关键字参数。在未重写这些选项的组中，它们会被用作默认值。当你只想改动一个参数组的选项，但其他参数组的选项不变时，这是非常有用的。  \n",
    "例如，当我们想指定每一层的学习率时，这是非常有用的:\n",
    "```python\n",
    "optim.SGD([{'params': model.base.parameters()}, {'params': model.classifier.parameters()], 'lr': 1e-3} ,lr=1e-2, momentum=0.9) \n",
    "```  \n",
    "这意味着 model.base 的参数将会使用 1e-2 的学习率， model.classifier 的参数将会使用 1e-3 的学习率，并且 0.9 的momentum将会被用于所有的参数。"
   ]
  },
  {
   "cell_type": "markdown",
   "metadata": {},
   "source": [
    "### 进行单次优化\n",
    "所有的optimizer都实现了 step() 方法，这个方法会更新所有的参数。它能按两种方式来使 用：\n",
    "optimizer.step()\n",
    "这是大多数optimizer所支持的简化版本。一旦梯度被如 backward() 之类的函数计算好后，我 们就可以调用这个函数。\n",
    "\n",
    "例子:\n",
    "```python\n",
    "for input, target in dataset:     \n",
    "    optimizer.zero_grad()     \n",
    "    output = model(input)     \n",
    "    loss = loss_fn(output, target)     \n",
    "    loss.backward()     \n",
    "    optimizer.step() \n",
    "    optimizer.step(closure)\n",
    "```\n",
    "一些优化算法例如Conjugate Gradient和LBFGS需要重复多次计算函数，因此你需要传入一个闭包去允许它们重新计算你的模型。这个闭包应当清空梯度，计算损失，然后返回。  \n",
    "\n",
    "例子：\n",
    "```python\n",
    "for input, target in dataset:     \n",
    "    def closure():        \n",
    "        optimizer.zero_grad()        \n",
    "        output = model(input)        \n",
    "        loss = loss_fn(output, target)         \n",
    "        loss.backward()         \n",
    "        return loss     \n",
    "        optimizer.step(closure)\n",
    "```"
   ]
  },
  {
   "cell_type": "markdown",
   "metadata": {},
   "source": [
    "## 函数\n",
    "### torch.optim.Optimizer\n",
    "class torch.optim.Optimizer(params, defaults)  \n",
    "Base class for all optimizers.  \n",
    "参数：  \n",
    "- params (iterable) —— dict 的iterable。指定了什么参数应当被优化。 \n",
    "- defaults —— (dict)：包含了优化选项默认值的字典（一个参数组没有指定的参数选项将会 使用默认值）。"
   ]
  },
  {
   "cell_type": "markdown",
   "metadata": {},
   "source": [
    "### load_state_dict\n",
    "load_state_dict(state_dict)  \n",
    "加载optimizer状态  \n",
    "参数：  \n",
    "- state_dict ( dict ) —— optimizer的状态。应当是一个调用 state_dict() 所返回的对象。"
   ]
  },
  {
   "cell_type": "markdown",
   "metadata": {},
   "source": [
    "### state_dict\n",
    "state_dict()  \n",
    "以 dict 返回optimizer的状态，返回结果包含两项：  \n",
    "- state - 一个保存了当前优化状态的dict。optimizer的类别不同，state的内容也会不同。 \n",
    "- param_groups - 一个包含了全部参数组的dict。"
   ]
  },
  {
   "cell_type": "markdown",
   "metadata": {},
   "source": [
    "### step\n",
    "step(closure)  \n",
    "进行单次优化 (参数更新)  \n",
    "参数：  \n",
    "- closure ( callable ) – 一个重新评价模型并返回loss的闭包，对于大多数参数来说是可选 的。"
   ]
  },
  {
   "cell_type": "markdown",
   "metadata": {},
   "source": [
    "### zero_grad\n",
    "zero_grad()  \n",
    "清空所有被优化过的梯度"
   ]
  },
  {
   "cell_type": "markdown",
   "metadata": {},
   "source": [
    "## 算法\n",
    "### Adadelta\n",
    "class torch.optim.Adadelta(params, lr=1.0, rho=0.9, eps=1e-06, weight_decay=0) - 实现Adadelta算法。  \n",
    "参数：  \n",
    "- params (iterable) – 待优化参数的iterable或者是定义了参数组的dict \n",
    "- rho ( float , 可选) – 用于计算平方梯度的运行平均值的系数（默认：0.9） \n",
    "- eps ( float , 可选) – 为了增加数值计算的稳定性而加到分母里的项（默认：1e-6） \n",
    "- lr ( float , 可选) – 在delta被应用到参数更新之前对它缩放的系数（默认：1.0） \n",
    "- weight_decay ( float , 可选) – 权重衰减（L2惩罚）（默认: 0）"
   ]
  },
  {
   "cell_type": "markdown",
   "metadata": {},
   "source": [
    "### Adagrad\n",
    "class torch.optim.Adagrad(params, lr=0.01, lr_decay=0, weight_decay=0) - 实现Adagrad算法  \n",
    "参数：  \n",
    "- params (iterable) – 待优化参数的iterable或者是定义了参数组的dict \n",
    "- lr ( float , 可选) – 学习率（默认: 1e-2） \n",
    "- lr_decay ( float , 可选) – 学习率衰减（默认: 0） \n",
    "- weight_decay ( float , 可选) – 权重衰减（L2惩罚）（默认: 0）"
   ]
  },
  {
   "cell_type": "markdown",
   "metadata": {},
   "source": [
    "### Adamax\n",
    "class torch.optim.Adamax(params, lr=0.002, betas=(0.9, 0.999), eps=1e-08, weight_decay=0) - 实现Adamax算法（Adam的一种基于无穷范数的变种)  \n",
    "参数：  \n",
    "- params (iterable) – 待优化参数的iterable或者是定义了参数组的dict \n",
    "- lr ( float , 可选) – 学习率（默认：2e-3） \n",
    "- betas (Tuple[ float , float ], 可选) – 用于计算梯度以及梯度平方的运行平均值的系数 \n",
    "- eps ( float , 可选) – 为了增加数值计算的稳定性而加到分母里的项（默认：1e-8）\n",
    "- weight_decay ( float , 可选) – 权重衰减（L2惩罚）（默认: 0）"
   ]
  },
  {
   "cell_type": "markdown",
   "metadata": {},
   "source": [
    "### Adam\n",
    "class torch.optim.Adam(params, lr=0.001, betas=(0.9, 0.999), eps=1e08, weight_decay=0) - 实现Adam算法  \n",
    "参数：  \n",
    "- params (iterable) – 待优化参数的iterable或者是定义了参数组的dict \n",
    "- lr ( float , 可选) – 学习率（默认：1e-3）\n",
    "- betas (Tuple[ float , float ], 可选) – 用于计算梯度以及梯度平方的运行平均值的系数（默 认：0.9，0.999） \n",
    "- eps ( float , 可选) – 为了增加数值计算的稳定性而加到分母里的项（默认：1e-8）\n",
    "- weight_decay ( float , 可选) – 权重衰减（L2惩罚）（默认: 0）"
   ]
  },
  {
   "cell_type": "markdown",
   "metadata": {},
   "source": [
    "### ASGD\n",
    "class torch.optim.ASGD(params, lr=0.01, lambd=0.0001, alpha=0.75, t0=1000000.0, weight_decay=0) - 实现平均随机梯度下降算法  \n",
    "参数：  \n",
    "- params (iterable) – 待优化参数的iterable或者是定义了参数组的dict \n",
    "- lr ( float , 可选) – 学习率（默认：1e-2） \n",
    "- lambd ( float , 可选) – 衰减项（默认：1e-4） \n",
    "- alpha ( float , 可选) – eta更新的指数（默认：0.75） \n",
    "- t0 ( float , 可选) – 指明在哪一次开始平均化（默认：1e6） \n",
    "- weight_decay ( float , 可选) – 权重衰减（L2惩罚）（默认: 0）"
   ]
  },
  {
   "cell_type": "markdown",
   "metadata": {},
   "source": [
    "### LBFGS\n",
    "class torch.optim.LBFGS(params, lr=1, max_iter=20, max_eval=None, tolerance_grad=1e-05, tolerance_change=1e-09, history_size=100, line_search_fn=None) - 实现L-BFGS算法  \n",
    "**警告：**  \n",
    "这个optimizer不支持为每个参数单独设置选项以及不支持参数组（只能有一个）  \n",
    "**警告：**   \n",
    "目前所有的参数不得不都在同一设备上。在将来这会得到改进。  \n",
    "**注意：**  \n",
    "这是一个内存高度密集的optimizer（它要求额外的 param_bytes * (history_size + 1) 个字 节）。如果它不适应内存，尝试减小history size，或者使用不同的算法。  \n",
    "参数：  \n",
    "- lr ( float ) – 学习率（默认：1） \n",
    "- max_iter ( int ) – 每一步优化的最大迭代次数（默认：20）) \n",
    "- max_eval ( int ) – 每一步优化的最大函数评价次数（默认：max * 1.25） \n",
    "- tolerance_grad ( float ) – 一阶最优的终止容忍度（默认：1e-5） \n",
    "- tolerance_change ( float ) – 在函数值/参数变化量上的终止容忍度（默认：1e-9)\n",
    "- history_size ( int ) – 更新历史的大小（默认：100）"
   ]
  },
  {
   "cell_type": "markdown",
   "metadata": {},
   "source": [
    "### RMSprop\n",
    "class torch.optim.RMSprop(params, lr=0.01, alpha=0.99, eps=1e-08, weight_decay=0, momentum=0, centered=False) - 实现RMSprop算法  \n",
    "参数：  \n",
    "- params (iterable) – 待优化参数的iterable或者是定义了参数组的dict \n",
    "- lr ( float , 可选) – 学习率（默认：1e-2） \n",
    "- momentum ( float , 可选) – 动量因子（默认：0） \n",
    "- alpha ( float , 可选) – 平滑常数（默认：0.99） \n",
    "- eps ( float , 可选) – 为了增加数值计算的稳定性而加到分母里的项（默认：1e-8） \n",
    "- centered ( bool , 可选) – 如果为True，计算中心化的RMSProp，并且用它的方差预测值对 梯度进行归一化 \n",
    "- weight_decay ( float , 可选) – 权重衰减（L2惩罚）（默认: 0）"
   ]
  },
  {
   "cell_type": "markdown",
   "metadata": {},
   "source": [
    "### Rprop\n",
    "class torch.optim.Rprop(params, lr=0.01, etas=(0.5, 1.2), step_sizes= (1e-06, 50)) - 实现弹性反向传播算法  \n",
    "参数：  \n",
    "- params (iterable) – 待优化参数的iterable或者是定义了参数组的dict \n",
    "- lr ( float , 可选) – 学习率（默认：1e-2） \n",
    "- etas (Tuple[ float , float ], 可选) – 一对（etaminus，etaplis）, 它们分别是乘法的增加和减 小的因子（默认：0.5，1.2） \n",
    "- step_sizes (Tuple[ float , float ], 可选) – 允许的一对最小和最大的步长（默认：1e-6， 50）"
   ]
  },
  {
   "cell_type": "markdown",
   "metadata": {},
   "source": [
    "### SGD\n",
    "class torch.optim.SGD(params, lr=, momentum=0, dampening=0, weight_decay=0, nesterov=False) - 实现随机梯度下降算法（momentum可选）  \n",
    "参数：  \n",
    "- params (iterable) – 待优化参数的iterable或者是定义了参数组的dict \n",
    "- lr ( float ) – 学习率 \n",
    "- momentum ( float , 可选) – 动量因子（默认：0）\n",
    "- weight_decay ( float , 可选) – 权重衰减（L2惩罚）（默认：0） dampening ( float , 可选) – 动量的抑制因子（默认：0） nesterov ( bool , 可选) – 使用Nesterov动量（默认：False"
   ]
  },
  {
   "cell_type": "markdown",
   "metadata": {},
   "source": [
    "以上就是所有优化算法，同学们可以自行测试每个优化算法，只需修改optimizer=optim优化算法"
   ]
  },
  {
   "cell_type": "markdown",
   "metadata": {},
   "source": [
    "## 示例代码"
   ]
  },
  {
   "cell_type": "code",
   "execution_count": 1,
   "metadata": {},
   "outputs": [
    {
     "name": "stdout",
     "output_type": "stream",
     "text": [
      "Epoch[200/10000], loss: 20.570246\n",
      "Epoch[400/10000], loss: 19.275066\n",
      "Epoch[600/10000], loss: 18.040579\n",
      "Epoch[800/10000], loss: 16.864079\n",
      "Epoch[1000/10000], loss: 15.743072\n",
      "Epoch[1200/10000], loss: 14.675252\n",
      "Epoch[1400/10000], loss: 13.658504\n",
      "Epoch[1600/10000], loss: 12.690866\n",
      "Epoch[1800/10000], loss: 11.770534\n",
      "Epoch[2000/10000], loss: 10.895849\n",
      "Epoch[2200/10000], loss: 10.065274\n",
      "Epoch[2400/10000], loss: 9.277388\n",
      "Epoch[2600/10000], loss: 8.530876\n",
      "Epoch[2800/10000], loss: 7.824512\n",
      "Epoch[3000/10000], loss: 7.157146\n",
      "Epoch[3200/10000], loss: 6.527702\n",
      "Epoch[3400/10000], loss: 5.935160\n",
      "Epoch[3600/10000], loss: 5.378541\n",
      "Epoch[3800/10000], loss: 4.856909\n",
      "Epoch[4000/10000], loss: 4.369348\n",
      "Epoch[4200/10000], loss: 3.914962\n",
      "Epoch[4400/10000], loss: 3.492862\n",
      "Epoch[4600/10000], loss: 3.102158\n",
      "Epoch[4800/10000], loss: 2.741949\n",
      "Epoch[5000/10000], loss: 2.411316\n",
      "Epoch[5200/10000], loss: 2.109313\n",
      "Epoch[5400/10000], loss: 1.834961\n",
      "Epoch[5600/10000], loss: 1.587235\n",
      "Epoch[5800/10000], loss: 1.365064\n",
      "Epoch[6000/10000], loss: 1.167317\n",
      "Epoch[6200/10000], loss: 0.992804\n",
      "Epoch[6400/10000], loss: 0.840263\n",
      "Epoch[6600/10000], loss: 0.708362\n",
      "Epoch[6800/10000], loss: 0.595696\n",
      "Epoch[7000/10000], loss: 0.500787\n",
      "Epoch[7200/10000], loss: 0.422087\n",
      "Epoch[7400/10000], loss: 0.357992\n",
      "Epoch[7600/10000], loss: 0.306850\n",
      "Epoch[7800/10000], loss: 0.266990\n",
      "Epoch[8000/10000], loss: 0.236745\n",
      "Epoch[8200/10000], loss: 0.214486\n",
      "Epoch[8400/10000], loss: 0.198666\n",
      "Epoch[8600/10000], loss: 0.187861\n",
      "Epoch[8800/10000], loss: 0.180804\n",
      "Epoch[9000/10000], loss: 0.176422\n",
      "Epoch[9200/10000], loss: 0.173849\n",
      "Epoch[9400/10000], loss: 0.172426\n",
      "Epoch[9600/10000], loss: 0.171687\n",
      "Epoch[9800/10000], loss: 0.171322\n",
      "Epoch[10000/10000], loss: 0.171146\n"
     ]
    },
    {
     "data": {
      "image/png": "[encoded data removed]",
      "text/plain": [
       "<Figure size 432x288 with 1 Axes>"
      ]
     },
     "metadata": {
      "needs_background": "light"
     },
     "output_type": "display_data"
    }
   ],
   "source": [
    "import torch\n",
    "from torch import nn, optim\n",
    "import numpy as np\n",
    "import matplotlib.pyplot as plt\n",
    "\n",
    "x_train = np.array([[3.3], [4.4], [5.5], [6.71], [6.93], [4.168],\n",
    "                    [9.779], [6.182], [7.59], [2.167], [7.042],\n",
    "                    [10.791], [5.313], [7.997], [3.1]], dtype=np.float32)\n",
    "\n",
    "y_train = np.array([[1.7], [2.76], [2.09], [3.19], [1.694], [1.573],\n",
    "                    [3.366], [2.596], [2.53], [1.221], [2.827],\n",
    "                    [3.465], [1.65], [2.904], [1.3]], dtype=np.float32)\n",
    "\n",
    "\n",
    "x_train = torch.from_numpy(x_train)\n",
    "\n",
    "y_train = torch.from_numpy(y_train)\n",
    "\n",
    "\n",
    "# Linear Regression Model\n",
    "class LinearRegression(nn.Module):\n",
    "    def __init__(self):\n",
    "        super(LinearRegression, self).__init__()\n",
    "        self.linear = nn.Linear(1, 1)  # input and output is 1 dimension\n",
    "\n",
    "    def forward(self, x):\n",
    "        out = self.linear(x)\n",
    "        return out\n",
    "\n",
    "\n",
    "model = LinearRegression()\n",
    "# 定义loss和优化函数\n",
    "criterion = nn.MSELoss()\n",
    "#optimizer = optim.SGD(model.parameters(), lr=1e-4)\n",
    "optimizer=optim.Adam(model.parameters(),lr=1e-4)\n",
    "\n",
    "# 开始训练\n",
    "num_epochs = 10000  #epoch可自定义\n",
    "for epoch in range(num_epochs):\n",
    "    inputs = x_train\n",
    "    target = y_train\n",
    "\n",
    "    # forward\n",
    "    out = model(inputs)\n",
    "    loss = criterion(out, target)\n",
    "    # backward\n",
    "    optimizer.zero_grad()\n",
    "    loss.backward()\n",
    "    optimizer.step()\n",
    "\n",
    "    if (epoch+1) % 200 == 0:\n",
    "        print('Epoch[{}/{}], loss: {:.6f}'\n",
    "              .format(epoch+1, num_epochs, loss.item()))\n",
    "\n",
    "model.eval()\n",
    "predict = model(x_train)\n",
    "predict = predict.data.numpy()\n",
    "plt.plot(x_train.numpy(), y_train.numpy(), 'ro', label='Original data')\n",
    "plt.plot(x_train.numpy(), predict, label='Fitting Line')\n",
    "# 显示图例\n",
    "plt.legend() \n",
    "plt.show()\n",
    "\n",
    "# 保存模型\n",
    "torch.save(model.state_dict(), './linear.pth')"
   ]
  }
 ],
 "metadata": {
  "kernelspec": {
   "display_name": "Python 3",
   "language": "python",
   "name": "python3"
  },
  "language_info": {
   "codemirror_mode": {
    "name": "ipython",
    "version": 3
   },
   "file_extension": ".py",
   "mimetype": "text/x-python",
   "name": "python",
   "nbconvert_exporter": "python",
   "pygments_lexer": "ipython3",
   "version": "3.7.2"
  },
  "toc": {
   "base_numbering": 1,
   "nav_menu": {},
   "number_sections": true,
   "sideBar": true,
   "skip_h1_title": true,
   "title_cell": "Table of Contents",
   "title_sidebar": "torch.optim",
   "toc_cell": false,
   "toc_position": {},
   "toc_section_display": true,
   "toc_window_display": true
  }
 },
 "nbformat": 4,
 "nbformat_minor": 2
}
