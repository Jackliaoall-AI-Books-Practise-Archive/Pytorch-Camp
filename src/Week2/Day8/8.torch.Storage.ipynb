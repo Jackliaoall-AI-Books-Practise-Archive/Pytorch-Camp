{
 "cells": [
  {
   "cell_type": "markdown",
   "metadata": {},
   "source": [
    "# torch.Storage \n",
    "一个 torch.Storage 是一个单一数据类型的连续一维数组。 \n",
    "\n",
    "每个 torch.Tensor 都有一个对应的、相同数据类型的存储。 \n",
    "\n",
    "class torch.FloatStorage  \n",
    "byte()：将此存储转为byte类型 \n",
    "\n",
    "char()：将此存储转为char类型 \n",
    "\n",
    "double()： 将此存储转为double类型 \n",
    "\n",
    "short():将此存储转为short类型\n",
    "\n",
    "long():将此存储转为long类型 \n",
    "\n",
    "int()：将此存储转为int类型\n",
    "\n",
    "clone()：返回此存储的一个副本 \n",
    "\n",
    "copy_()：（待补充）\n",
    "\n",
    "cpu()：如果当前此存储不在CPU上，则返回一个它的CPU副本 "
   ]
  },
  {
   "cell_type": "markdown",
   "metadata": {},
   "source": [
    "new():（待补充） \n",
    "\n",
    "pin_memory()：如果此存储当前未被锁定，则将它复制到锁定内存中。 resize_() share_memory_()\n",
    "\n",
    "size（）:（待补充） \n",
    "\n",
    "resize_() :（待补充） \n",
    "\n",
    "share_memory_()：将此存储移动到共享内存中。 对于已经在共享内存中的存储或者CUDA存储，这是一条空指令，它们不需要移动就能在进程 间共享。共享内存中的存储不能改变大小。 返回：self"
   ]
  },
  {
   "cell_type": "markdown",
   "metadata": {},
   "source": [
    "cuda(device=None, async=False)：返回此对象在CUDA内存中的一个副本。 \n",
    "如果此对象已在CUDA内存中且在正确的设备上，那么不会执行复制操作，直接返回原对象。 \n",
    "\n",
    "参数：\n",
    "device (int) - 目标GPU的id。默认值是当前设备。 \n",
    "\n",
    "async (bool) -如果值为True，且源在锁定内存中，则副本相对于宿主是异步的。否则此参数不起效果。"
   ]
  },
  {
   "cell_type": "markdown",
   "metadata": {},
   "source": [
    "data_ptr()：（待补充）"
   ]
  },
  {
   "cell_type": "markdown",
   "metadata": {},
   "source": [
    "element_size() :（待补充）\n",
    "\n",
    "fill_():（待补充）\n"
   ]
  },
  {
   "cell_type": "markdown",
   "metadata": {},
   "source": [
    "tolist():返回一个包含此存储中元素的列表 \n",
    "\n",
    "type(new_type=None, async=False) 将此对象转为指定类型。\n",
    "如果已经是正确类型，不会执行复制操作，直接返回原对象。 \n",
    "\n",
    "参数：\n",
    "new_type (type or string) -需要转成的类型 \n",
    "\n",
    "async (bool) -如果值为True，且源在锁定内存中而目标在GPU中——或正好相反，则复制操作相对于宿主异步执行。否则此参数不起效果。"
   ]
  }
 ],
 "metadata": {
  "kernelspec": {
   "display_name": "Python 3",
   "language": "python",
   "name": "python3"
  },
  "language_info": {
   "codemirror_mode": {
    "name": "ipython",
    "version": 3
   },
   "file_extension": ".py",
   "mimetype": "text/x-python",
   "name": "python",
   "nbconvert_exporter": "python",
   "pygments_lexer": "ipython3",
   "version": "3.7.2"
  },
  "toc": {
   "base_numbering": 1,
   "nav_menu": {},
   "number_sections": true,
   "sideBar": true,
   "skip_h1_title": false,
   "title_cell": "Table of Contents",
   "title_sidebar": "Contents",
   "toc_cell": false,
   "toc_position": {},
   "toc_section_display": true,
   "toc_window_display": false
  }
 },
 "nbformat": 4,
 "nbformat_minor": 2
}
